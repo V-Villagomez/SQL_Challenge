{
 "cells": [
  {
   "cell_type": "markdown",
   "id": "6e67fa82",
   "metadata": {},
   "source": [
    "# Employee Database Analysis (Bonus)\n",
    "----\n",
    "\n",
    "#### Note\n",
    "* Import the SQL database into Pandas.\n",
    "* Create a histogram to visualize the most common salary ranges for employees.\n",
    "* Create a bar chart of average salary by title."
   ]
  },
  {
   "cell_type": "code",
   "execution_count": null,
   "id": "da526e05",
   "metadata": {},
   "outputs": [],
   "source": [
    "import pandas as pd\n",
    "import matplotlib.pyplot as plt\n",
    "import os\n",
    "import numpy as np\n",
    "import scipy.stats as sts\n",
    "from sqlalchemy import create_engine"
   ]
  }
 ],
 "metadata": {
  "kernelspec": {
   "display_name": "Python 3",
   "language": "python",
   "name": "python3"
  },
  "language_info": {
   "codemirror_mode": {
    "name": "ipython",
    "version": 3
   },
   "file_extension": ".py",
   "mimetype": "text/x-python",
   "name": "python",
   "nbconvert_exporter": "python",
   "pygments_lexer": "ipython3",
   "version": "3.8.8"
  }
 },
 "nbformat": 4,
 "nbformat_minor": 5
}
